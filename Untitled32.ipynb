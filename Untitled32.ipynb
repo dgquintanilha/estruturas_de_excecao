{
  "nbformat": 4,
  "nbformat_minor": 0,
  "metadata": {
    "colab": {
      "provenance": [],
      "authorship_tag": "ABX9TyM77t+Glz7VhqragkpHa79i",
      "include_colab_link": true
    },
    "kernelspec": {
      "name": "python3",
      "display_name": "Python 3"
    },
    "language_info": {
      "name": "python"
    }
  },
  "cells": [
    {
      "cell_type": "markdown",
      "metadata": {
        "id": "view-in-github",
        "colab_type": "text"
      },
      "source": [
        "<a href=\"https://colab.research.google.com/github/dgquintanilha/estruturas_de_excecao/blob/main/Untitled32.ipynb\" target=\"_parent\"><img src=\"https://colab.research.google.com/assets/colab-badge.svg\" alt=\"Open In Colab\"/></a>"
      ]
    },
    {
      "cell_type": "code",
      "execution_count": null,
      "metadata": {
        "id": "PdO8RzPOTaey"
      },
      "outputs": [],
      "source": [
        "\"\"\"\n",
        "Desenvolva um programa que recebe do usuário nome completo e ano de nascimento que seja entre 1922 e 2021.\n",
        "A partir dessas informações, o sistema mostrará o nome do usuário e a idade que completou, ou completará, no ano atual (2022).\n",
        "\n",
        "Caso o usuário não digite um número ou apareça um inválido no campo do ano,\n",
        " o sistema informará o erro e continuará perguntando até que um valor correto seja preenchido.\n",
        "\"\"\"\n",
        "\n",
        "import datetime\n",
        "\n",
        "while True:\n",
        "    nome_completo = input(\"Digite o seu nome completo: \")\n",
        "    ano_nascimento = input(\"Digite o ano de nascimento (1922-2021): \")\n",
        "\n",
        "    try:\n",
        "        ano_nascimento = int(ano_nascimento)\n",
        "        if 1922 <= ano_nascimento <= 2021:\n",
        "            break\n",
        "        else:\n",
        "            print(\"Ano de nascimento inválido. Tente novamente.\")\n",
        "\n",
        "    except ValueError:\n",
        "        print(\"Valor inválido. Tente novamente.\")\n",
        "\n",
        "ano_atual = datetime.datetime.now().year\n",
        "idade = ano_atual - ano_nascimento\n",
        "\n",
        "print(\"Nome: \", nome_completo)\n",
        "print(\"Idade: \", idade)\n",
        "\n"
      ]
    }
  ]
}